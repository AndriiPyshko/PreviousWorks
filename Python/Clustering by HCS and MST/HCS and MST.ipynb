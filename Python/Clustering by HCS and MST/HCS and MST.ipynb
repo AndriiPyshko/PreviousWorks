{
 "cells": [
  {
   "cell_type": "code",
   "execution_count": 1,
   "id": "01b07bcc",
   "metadata": {},
   "outputs": [],
   "source": [
    "# Ресурси\n",
    "import networkx as nx\n",
    "import matplotlib.pyplot as plt\n",
    "import numpy as np"
   ]
  },
  {
   "cell_type": "markdown",
   "id": "21162788",
   "metadata": {},
   "source": [
    "## Алгоритм HCS"
   ]
  },
  {
   "cell_type": "code",
   "execution_count": 3,
   "id": "2562b312",
   "metadata": {},
   "outputs": [],
   "source": [
    "# Перевіряє, чи є граф G високозв’язним. Приймає граф G та ребра, необхідні для його розбиття.\n",
    "# Високозв'язність означає, що для розбиття графа G на підграфи потрібно більше 0,5*|V| видалення країв.\n",
    "def highlyConnected(G, E):\n",
    "    return len(E) > len(G.nodes) / 2"
   ]
  },
  {
   "cell_type": "code",
   "execution_count": 4,
   "id": "5341d095",
   "metadata": {},
   "outputs": [],
   "source": [
    "# Видаляє всі ребра E з G\n",
    "def remove_edges(G, E):\n",
    "    for edge in E:\n",
    "        G.remove_edge(*edge)\n",
    "    return G"
   ]
  },
  {
   "cell_type": "code",
   "execution_count": 5,
   "id": "8565b7d6",
   "metadata": {},
   "outputs": [],
   "source": [
    "def hcsClustering(G):\n",
    "    G_ = G.copy() # Копія графа для безпечних модифікацій\n",
    "    E = nx.algorithms.connectivity.cuts.minimum_edge_cut(G_) # Ребра, що є мінімальними розрізами графа\n",
    "\n",
    "    # Якщо граф не є високо зв'язнаним за мінімальними розрізами, видаляємо відповідні ребра\n",
    "    if not highlyConnected(G_, E):\n",
    "        G_ = remove_edges(G_, E)\n",
    "        subGraphs = [G_.subgraph(c).copy() for c in nx.connected_components(G_)]\n",
    "\n",
    "        if len(subGraphs) == 2:\n",
    "            H = hcsClustering(subGraphs[0])\n",
    "            _H = hcsClustering(subGraphs[1])\n",
    "\n",
    "            G_ = nx.compose(H, _H)\n",
    "\n",
    "    return G_"
   ]
  },
  {
   "cell_type": "code",
   "execution_count": 6,
   "id": "4e0ef744",
   "metadata": {},
   "outputs": [],
   "source": [
    "# Приймає граф, повертає інфу про кластери у форматі [1,1,1,2,2,3]\n",
    "def hcsClusteringLabelled(G):\n",
    "    _G = hcsClustering(G)\n",
    "\n",
    "    subGraphs = (G.subgraph(c).copy() for c in nx.connected_components(_G))\n",
    "\n",
    "\n",
    "    labels = np.zeros(shape=(len(G)), dtype=np.uint16)\n",
    "\n",
    "    for _class, _cluster in enumerate(subGraphs, 1):\n",
    "        c = list(_cluster.nodes)\n",
    "        labels[c] = _class\n",
    "\n",
    "    return labels"
   ]
  },
  {
   "cell_type": "code",
   "execution_count": 11,
   "id": "f37f1839",
   "metadata": {},
   "outputs": [],
   "source": [
    "# Візуалізація графу\n",
    "def plotUnweightedGraph(G, pos=None, nodeSize=700, nodeColor='skyblue', fontColor='black', withLabels=True, fontWeight='bold'):\n",
    "    nx.draw(G, pos, with_labels=withLabels, node_size=nodeSize, node_color=nodeColor, font_color=fontColor, font_weight=fontWeight)\n",
    "    plt.show()"
   ]
  },
  {
   "cell_type": "markdown",
   "id": "4fd12206",
   "metadata": {},
   "source": [
    "### Приклад застосування"
   ]
  },
  {
   "cell_type": "code",
   "execution_count": 17,
   "id": "9d54bb6e",
   "metadata": {},
   "outputs": [
    {
     "name": "stdout",
     "output_type": "stream",
     "text": [
      "[[0 1 1 1 1 1 0 0 0 0 0 0 0 0 0 0 0]\n",
      " [1 0 1 1 1 1 1 0 1 0 0 0 0 0 0 0 0]\n",
      " [1 1 0 1 1 1 0 0 0 1 0 0 0 0 0 0 0]\n",
      " [1 1 1 0 1 1 0 0 0 1 0 0 0 0 0 0 0]\n",
      " [1 1 1 1 0 1 0 0 0 0 0 0 0 0 0 0 0]\n",
      " [1 1 1 1 1 0 0 0 0 0 1 1 0 0 0 0 0]\n",
      " [0 1 0 0 0 0 0 1 1 0 0 0 0 0 0 0 0]\n",
      " [0 0 0 0 0 0 1 0 1 0 0 0 0 0 0 0 0]\n",
      " [0 1 0 0 0 0 1 1 0 0 0 0 0 0 0 0 0]\n",
      " [0 0 1 1 0 0 0 0 0 0 1 1 1 1 0 1 1]\n",
      " [0 0 0 0 0 1 0 0 0 1 0 1 1 1 1 1 1]\n",
      " [0 0 0 0 0 1 0 0 0 1 1 0 1 1 1 1 1]\n",
      " [0 0 0 0 0 0 0 0 0 1 1 1 0 1 1 1 1]\n",
      " [0 0 0 0 0 0 0 0 0 1 1 1 1 0 1 0 0]\n",
      " [0 0 0 0 0 0 0 0 0 0 1 1 1 1 0 1 0]\n",
      " [0 0 0 0 0 0 0 0 0 1 1 1 1 0 1 0 1]\n",
      " [0 0 0 0 0 0 0 0 0 1 1 1 1 0 0 1 0]]\n"
     ]
    }
   ],
   "source": [
    "# Ініціалізація графа\n",
    "\n",
    "# Вершини графа\n",
    "v = {'Dublin': 0, \n",
    "     'London': 1, \n",
    "     'Paris': 2, \n",
    "     'Amsterdam': 3, \n",
    "     'Madrid': 4,\n",
    "     'Lisbon': 5, \n",
    "     'Zurich': 6, \n",
    "     'Geneva': 7, \n",
    "     'Bern': 8, \n",
    "     'Berlin': 9,\n",
    "     'Vienna': 10, \n",
    "     'Budapest': 11, \n",
    "     'Prague': 12, \n",
    "     'Warsaw': 13,\n",
    "     'Kyiv': 14, \n",
    "     'Oslo': 15, \n",
    "     'Helsinki': 16}\n",
    "\n",
    "# Випадкова матриця суміжності\n",
    "def randAdjacency(vertices_number):\n",
    "    adjacency = np.random.randint(2, size=(vertices_number, vertices_number), dtype=np.uint8)  # Задаємо випадково\n",
    "    adjacency = np.triu(adjacency) + np.triu(adjacency, 1).T  # Робимо симетричною\n",
    "    np.fill_diagonal(adjacency, 0)  # Обнуляємо діагональ\n",
    "\n",
    "adjacency = np.zeros(shape=(len(v), len(v)), dtype=np.uint8)  # Матриця суміжності\n",
    "\n",
    "# Задаємо зв'язки\n",
    "adjacency[v['Dublin'], \n",
    "          [v['London'], v['Paris'], v['Amsterdam'], v['Madrid'], v['Lisbon']]] = 1\n",
    "\n",
    "adjacency[v['London'], \n",
    "          [v['Paris'], v['Amsterdam'], v['Madrid'], v['Lisbon'], v['Zurich'], v['Bern']]] = 1\n",
    "\n",
    "adjacency[v['Paris'], \n",
    "          [v['Amsterdam'], v['Madrid'], v['Lisbon'], v['Berlin']]] = 1\n",
    "\n",
    "adjacency[v['Amsterdam'], \n",
    "          [v['Madrid'], v['Lisbon'], v['Berlin']]] = 1\n",
    "\n",
    "adjacency[v['Madrid'], \n",
    "          [v['Lisbon']]] = 1\n",
    "\n",
    "adjacency[v['Lisbon'], \n",
    "          [v['Vienna'], v['Budapest']]] = 1\n",
    "\n",
    "adjacency[v['Zurich'], \n",
    "          [v['Bern'], v['Geneva']]] = 1\n",
    "\n",
    "adjacency[v['Geneva'], \n",
    "          [v['Bern']]] = 1\n",
    "\n",
    "adjacency[v['Berlin'], \n",
    "          [v['Budapest'], v['Prague'], v['Warsaw'], v['Vienna'], v['Oslo'], v['Helsinki']]] = 1\n",
    "\n",
    "adjacency[v['Vienna'], \n",
    "          [v['Budapest'], v['Prague'], v['Warsaw'], v['Kyiv'], v['Oslo'], v['Helsinki']]] = 1\n",
    "\n",
    "adjacency[v['Budapest'], \n",
    "          [v['Prague'], v['Warsaw'], v['Kyiv'], v['Oslo'], v['Helsinki']]] = 1\n",
    "\n",
    "adjacency[v['Prague'], \n",
    "          [v['Warsaw'], v['Kyiv'], v['Oslo'], v['Helsinki']]] = 1\n",
    "\n",
    "adjacency[v['Warsaw'], \n",
    "          [v['Kyiv']]] = 1\n",
    "\n",
    "adjacency[v['Kyiv'], \n",
    "          [v['Oslo']]] = 1\n",
    "\n",
    "adjacency[v['Oslo'], \n",
    "          [v['Helsinki']]] = 1\n",
    "\n",
    "adjacency = np.triu(adjacency) + np.triu(adjacency, 1).T  # Робимо симетричною\n",
    "\n",
    "\n",
    "g = nx.from_numpy_matrix(adjacency) # Матриця, що задає граф\n",
    "\n",
    "print(adjacency)\n",
    "### Приклад застосування"
   ]
  },
  {
   "cell_type": "code",
   "execution_count": 8,
   "id": "917d7210",
   "metadata": {},
   "outputs": [
    {
     "data": {
      "image/png": "[encoded data removed]",
      "text/plain": [
       "<Figure size 432x288 with 1 Axes>"
      ]
     },
     "metadata": {},
     "output_type": "display_data"
    }
   ],
   "source": [
    "# Застосування методів кластеризації\n",
    "gSplitted = hcsClustering(g)\n",
    "\n",
    "# Виводимо результати\n",
    "nx.draw(gSplitted, with_labels=True, labels = verticesLabels, font_weight='bold')\n",
    "plt.show()"
   ]
  },
  {
   "cell_type": "code",
   "execution_count": null,
   "id": "fd06695c",
   "metadata": {},
   "outputs": [],
   "source": [
    "# Приклад графу для поділу\n",
    "G = nx.Graph()\n",
    "G.add_nodes_from(range(1, 7))\n",
    "edges = [(1, 2), (1, 4), (2, 3), (2, 4), (3, 5), (4, 5), (4, 6), (5, 6)]\n",
    "G.add_edges_from(edges)\n",
    "\n",
    "pos = nx.circular_layout(G)\n",
    "plotUnweightedGraph(G, pos=pos)\n",
    "\n",
    "gSplitted = hcsClustering(G)\n",
    "plotUnweightedGraph(gSplitted, pos=pos)"
   ]
  },
  {
   "cell_type": "markdown",
   "id": "f3f5e336",
   "metadata": {},
   "source": [
    "## Алгоритм MST "
   ]
  },
  {
   "cell_type": "code",
   "execution_count": 20,
   "id": "92e5532b",
   "metadata": {},
   "outputs": [],
   "source": [
    "import heapq  # heap queue"
   ]
  },
  {
   "cell_type": "code",
   "execution_count": 21,
   "id": "fdbe1de8",
   "metadata": {},
   "outputs": [],
   "source": [
    "# Реалізація алгоритму Прима для пошуку мінімального кістякового дерева\n",
    "# Приймає граф в контексті networkx, повертає ребра дерева\n",
    "def primsAlgorithm(graph):\n",
    "    graphDict = nx.to_dict_of_dicts(graph)  # Перетворюємо граф у зручну для аналізу форму\n",
    "    \n",
    "    treeNodes = set()  # Список для зберігання вершин МКД\n",
    "    startNode = list(graphDict.keys())[0]  # Вибір початкової вершини (можна вибрати будь-яку)\n",
    "    treeNodes.add(startNode)  # Додавання початкової вершини до дерева\n",
    "    treeEdges = []  # Список для зберігання ребер МКД\n",
    "    \n",
    "    edges = [(data['weight'], startNode, neighbor) for neighbor, data in graphDict[startNode].items()]  # Створення списку ребер для початкової вершини\n",
    "    heapq.heapify(edges)  # Сортування списку ребер за вагою\n",
    "\n",
    "    while edges:\n",
    "        weight, currentNode, nextNode = heapq.heappop(edges)  # Вибір ребра з найменшою вагою\n",
    "        \n",
    "        # Якщо вершина nextNode ще не у МКД, додаємо її та відповідне ребро\n",
    "        if nextNode not in treeNodes:\n",
    "            treeEdges.append((currentNode, nextNode, weight))\n",
    "            treeNodes.add(nextNode)\n",
    "            \n",
    "            # Додавання ребер, що виходять з нової вершини, до edges\n",
    "            for neighbor, data in graphDict[nextNode].items():\n",
    "                if neighbor not in treeNodes:\n",
    "                    heapq.heappush(edges, (data['weight'], nextNode, neighbor))\n",
    "                    \n",
    "    return treeEdges"
   ]
  },
  {
   "cell_type": "code",
   "execution_count": 22,
   "id": "a6ceb64a",
   "metadata": {},
   "outputs": [],
   "source": [
    "def kruskalAlgorithm(graph):\n",
    "    # Ініціалізація змінних\n",
    "    minSpanningTree = []  # Ребра мінімального кістякового дерева\n",
    "    edgeHeap = []  # Купа (heap) для ефективного вибору ребра з мінімальною вагою\n",
    "    nodeSets = []  # Список наборів вершин (для визначення з'єднаних компонентів)\n",
    "\n",
    "    # Додавання ребер графа до купи\n",
    "    for edge in graph.edges(data=True):\n",
    "        heapq.heappush(edgeHeap, (edge[2]['weight'], edge[0], edge[1]))\n",
    "\n",
    "    # Створення окремого набору вершин для кожної вершини графа\n",
    "    for node in graph.nodes():\n",
    "        nodeSets.append({node})\n",
    "\n",
    "    # Головний цикл алгоритму Краскала\n",
    "    while edgeHeap:\n",
    "        weight, u, v = heapq.heappop(edgeHeap)\n",
    "\n",
    "        # Знайдення компонентів, до яких належать вершини\n",
    "        u_set = None\n",
    "        v_set = None\n",
    "\n",
    "        for node_set in nodeSets:\n",
    "            if u in node_set:\n",
    "                u_set = node_set\n",
    "            if v in node_set:\n",
    "                v_set = node_set\n",
    "\n",
    "        # Перевірка чи ребро не утворює цикл\n",
    "        if u_set != v_set:\n",
    "            minSpanningTree.append((u, v, weight))\n",
    "            \n",
    "            # Об'єднання двох компонентів в одну\n",
    "            u_set.update(v_set)\n",
    "            nodeSets.remove(v_set)\n",
    "\n",
    "    return minSpanningTree"
   ]
  },
  {
   "cell_type": "code",
   "execution_count": 23,
   "id": "69d719fc",
   "metadata": {},
   "outputs": [],
   "source": [
    "# Фукнція реалізовує видалення ребер у порядку спадання доти, поки не отримаємо бажану кількість компонентів зв'язності\n",
    "def removeEdgesForClusters(minSpanningTreeGraph, clustersNumber):\n",
    "    # Видалення ребер у порядку спадання ваги\n",
    "    sortedEdges = sorted(minSpanningTreeGraph.edges(data=True), key=lambda x: x[2]['weight'], reverse=True)\n",
    "    \n",
    "    # Прибирання ребер для досягнення k компонентів зв'язності\n",
    "    for edge in sortedEdges:\n",
    "        minSpanningTreeGraph.remove_edge(edge[0], edge[1])\n",
    "        if nx.number_connected_components(minSpanningTreeGraph) == clustersNumber:\n",
    "            break\n",
    "\n",
    "    # Повертання ребер та їх ваг у вигляді списку кортежів\n",
    "    resultEdges = [(edge[0], edge[1], edge[2]['weight']) for edge in minSpanningTreeGraph.edges(data=True)]\n",
    "    return resultEdges"
   ]
  },
  {
   "cell_type": "code",
   "execution_count": 24,
   "id": "e2736f28",
   "metadata": {},
   "outputs": [],
   "source": [
    "# Фінальна функція, яка реалізує кластеризацію графа на бажану кількість кластерів\n",
    "def mstClustering(graph, clustersNumber):\n",
    "    # Робимо мінімальне кістякове дерево за методом Прима\n",
    "    minSpanningTree = primsAlgorithm(graph)\n",
    "    \n",
    "    # Створення графа з мінімального кістякового дерева\n",
    "    T = nx.Graph()\n",
    "    for edge in minSpanningTree:\n",
    "        T.add_edge(edge[0], edge[1], weight=edge[2])\n",
    "    \n",
    "    # Видаляємо ребра, поки не отримаємо потрібну кількість компонентів зв'яфзності\n",
    "    result = removeEdgesForClusters(T, clustersNumber)\n",
    "    return result"
   ]
  },
  {
   "cell_type": "code",
   "execution_count": 25,
   "id": "f8690ee3",
   "metadata": {},
   "outputs": [],
   "source": [
    "# Візуалізація графу\n",
    "def plotWeightedGraph(G, pos=None, nodeSize=700, nodeColor='skyblue', fontColor='black', withLabels=True, fontWeight='bold'):\n",
    "    edgeLabels = {(i, j): d['weight'] for i, j, d in G.edges(data=True)}\n",
    "    nx.draw(G, pos, with_labels=withLabels, node_size = nodeSize, node_color=nodeColor, font_color=fontColor, font_weight=fontWeight)\n",
    "    nx.draw_networkx_edge_labels(G, pos, edge_labels=edgeLabels)\n",
    "    plt.show()"
   ]
  },
  {
   "cell_type": "markdown",
   "id": "75d35b93",
   "metadata": {},
   "source": [
    "### Приклад застосування"
   ]
  },
  {
   "cell_type": "code",
   "execution_count": 26,
   "id": "4852c948",
   "metadata": {},
   "outputs": [],
   "source": [
    "# Приклад графу для поділу\n",
    "G = nx.Graph()\n",
    "G.add_nodes_from(range(1, 7))\n",
    "edges = [(1, 2, 7), (1, 4, 9), (2, 3, 8), (2, 4, 12), (3, 5, 7), (4, 5, 4), (4, 6, 5), (5, 6, 6)]\n",
    "G.add_weighted_edges_from(edges)"
   ]
  },
  {
   "cell_type": "code",
   "execution_count": 27,
   "id": "9549cda2",
   "metadata": {},
   "outputs": [],
   "source": [
    "# Приклад застосування алгоритму Прима\n",
    "\n",
    "# Отримаємо ребра МКД\n",
    "minimumSpanningTree = primsAlgorithm(G)\n",
    "\n",
    "# Робимо граф з отриманих ребер\n",
    "T = nx.Graph()\n",
    "T.add_nodes_from(range(1, 7))\n",
    "T.add_weighted_edges_from(minimumSpanningTree)"
   ]
  },
  {
   "cell_type": "code",
   "execution_count": 28,
   "id": "36dc073d",
   "metadata": {},
   "outputs": [],
   "source": [
    "# Приклад застосування алгоритму крастеризації з використання МКД\n",
    "\n",
    "# Задайте кількість бажаних кластерів\n",
    "clustersNumber = 3\n",
    "\n",
    "# Отримаємо ребра всередині кластерів\n",
    "clustersEdges = mstClustering(G, clustersNumber)\n",
    "\n",
    "# Робимо граф з отриманих ребер\n",
    "C = nx.Graph()\n",
    "C.add_nodes_from(range(1, 7))\n",
    "C.add_weighted_edges_from(clustersEdges)"
   ]
  },
  {
   "cell_type": "code",
   "execution_count": 29,
   "id": "e87fd6d1",
   "metadata": {},
   "outputs": [
    {
     "data": {
      "image/png": "[encoded data removed]",
      "text/plain": [
       "<Figure size 432x288 with 1 Axes>"
      ]
     },
     "metadata": {},
     "output_type": "display_data"
    },
    {
     "data": {
      "image/png": "[encoded data removed]",
      "text/plain": [
       "<Figure size 432x288 with 1 Axes>"
      ]
     },
     "metadata": {},
     "output_type": "display_data"
    },
    {
     "data": {
      "image/png": "[encoded data removed]",
      "text/plain": [
       "<Figure size 432x288 with 1 Axes>"
      ]
     },
     "metadata": {},
     "output_type": "display_data"
    }
   ],
   "source": [
    "# Візуалізуємо результати\n",
    "pos = nx.spring_layout(G)  # Вибираємо позиції вузлів для відображення\n",
    "plotWeightedGraph(G, pos, nodeColor='lightgray')\n",
    "plotWeightedGraph(T, pos, nodeColor='skyblue')\n",
    "plotWeightedGraph(C, pos, nodeColor='lawngreen')"
   ]
  },
  {
   "cell_type": "code",
   "execution_count": null,
   "id": "18bc8576",
   "metadata": {},
   "outputs": [],
   "source": []
  }
 ],
 "metadata": {
  "kernelspec": {
   "display_name": "Python 3 (ipykernel)",
   "language": "python",
   "name": "python3"
  },
  "language_info": {
   "codemirror_mode": {
    "name": "ipython",
    "version": 3
   },
   "file_extension": ".py",
   "mimetype": "text/x-python",
   "name": "python",
   "nbconvert_exporter": "python",
   "pygments_lexer": "ipython3",
   "version": "3.9.7"
  }
 },
 "nbformat": 4,
 "nbformat_minor": 5
}
